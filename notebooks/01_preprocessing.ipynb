{
 "cells": [
  {
   "cell_type": "code",
   "execution_count": 1,
   "id": "e49f2979-985d-478d-8ce7-1e8dc743ad4e",
   "metadata": {},
   "outputs": [],
   "source": [
    "# Constante\n",
    "DATA_PATH = '/home/saitama/Project/first_endtoend_project/data/raw/survey_results_public.csv' \n",
    "EXPORT_PATH = \"../data/processed/1_preprocessed_df.pkl\"\n",
    "\n",
    "REPLACE_DICT = {\n",
    "    'Age1stCode': {'Younger than 5 years': 4, 'Older than 85': 86},\n",
    "    'YearsCodePro': {'Less than 1 year': 0, 'More than 50 years': 51}, \n",
    "    'YearsCode':    {'Less than 1 year': 0, 'More than 50 years': 51},\n",
    "    }\n",
    "# Columns has multiple answers on each value\n",
    "COLUMNS_NEED_SPLIT = [\"DatabaseDesireNextYear\", \"DatabaseWorkedWith\",\n",
    "                      \"DevType\",\n",
    "                      \"LanguageWorkedWith\", \"LanguageDesireNextYear\",\n",
    "                      \"NEWCollabToolsDesireNextYear\", \"NEWCollabToolsWorkedWith\",\n",
    "                      \"OpSys\", \"PlatformDesireNextYear\", \"PlatformWorkedWith\",\n",
    "                      \"UndergradMajor\",\n",
    "                      \"MiscTechDesireNextYear\", \"MiscTechWorkedWith\",\n",
    "                      \"WebframeDesireNextYear\", \"WebframeWorkedWith\"]\n",
    "\n",
    "# Columns need to be integer \n",
    "COLUMNS_HAVE_PROB = [\"Age1stCode\", \"YearsCodePro\", \"YearsCode\"]\n",
    "COLUMNS_TO_USE = COLUMNS_HAVE_PROB + COLUMNS_NEED_SPLIT\n",
    "\n",
    "COLUMNS_FOR_JOB_HUNT = [\"NEWJobHuntResearch\", \"NEWJobHunt\"]"
   ]
  },
  {
   "cell_type": "markdown",
   "id": "5bc6cdb4-deda-4b6e-b19b-4229a43197ed",
   "metadata": {
    "tags": []
   },
   "source": [
    "***\n",
    "<h3 id=\"heading\"><span style=\"background-color:#cefffb; color:#1b4946 ; display:fill;border-radius:5px; font-family:cursive\"> 📥 Import packages & data </span></h3>"
   ]
  },
  {
   "cell_type": "code",
   "execution_count": 2,
   "id": "5cf0915f-2cf2-468d-87d6-ea31e49c062f",
   "metadata": {},
   "outputs": [],
   "source": [
    "# Load necessary package \n",
    "import pandas as pd\n",
    "import numpy as np\n",
    "import pickle\n",
    "import logging\n",
    "import math\n",
    "import random\n",
    "import os\n",
    "\n",
    "pd.options.display.max_rows = 50000\n",
    "\n",
    "raw_df = pd.read_csv(DATA_PATH)"
   ]
  },
  {
   "cell_type": "markdown",
   "id": "8b4192e1-6fc5-4548-8143-4c6fabe64695",
   "metadata": {},
   "source": [
    "***\n",
    "<h2 id=\"heading\"><span style=\"background-color:#cefffb; color:#1b4946; display:fill;border-radius:5px; font-family:cursive\"> 📢 Helper Function  </span></h2>"
   ]
  },
  {
   "cell_type": "code",
   "execution_count": 3,
   "id": "f922f281-9e0f-40d2-a00e-518f16e62aa4",
   "metadata": {},
   "outputs": [],
   "source": [
    "# Function \n",
    "def split_answers(column_serie, separator=';'):\n",
    "    \"\"\"\n",
    "    Split multiple answers in a single string \n",
    "    to a list of single strings each represnting a single answers \n",
    "    \n",
    "    Parametres:\n",
    "    * column_Serie (pd.Series): string serie with multiple answers\n",
    "    * separator (String): an other string that \n",
    "    \n",
    "    return: (pd.Serie) contain serie of list \n",
    "    \"\"\"\n",
    "    \n",
    "    # Sub-function checking if they are multiple answers\n",
    "    def multi_value_checker(pd_series, separator):\n",
    "        \"\"\" Check if the answer can be splitted by the separator - Returns boolean \"\"\"\n",
    "        return pd_series.str.contains(pat=separator)\n",
    "    \n",
    "    # Sub-function split each answer\n",
    "    def split_answer(pd_series, separator):\n",
    "        \"\"\" Split the string value by the separator - return list \"\"\"\n",
    "        return pd_series.str.split(separator) \n",
    "\n",
    "    # Check if the column_serie is splitable\n",
    "    val_splitable = multi_value_checker(column_serie, separator)\n",
    "    if not val_splitable.any():\n",
    "        return column_serie\n",
    "        \n",
    "    # If val_splitable.any() is True then split the column\n",
    "    column_splited = split_answer(column_serie, separator)\n",
    "                                  \n",
    "    # Replace the empty value by an empty list\n",
    "    null_answers_bool = column_splited.isnull()\n",
    "    column_splited.loc[null_answers_bool] = column_splited.loc[null_answers_bool].apply(lambda x: [])\n",
    "    \n",
    "    return column_splited"
   ]
  },
  {
   "cell_type": "markdown",
   "id": "37ad8341-e3f4-45ca-be56-2eb6a86762c1",
   "metadata": {},
   "source": [
    "***\n",
    "<h2 id=\"heading\"><span style=\"background-color:#cefffb; color:#1b4946; display:fill;border-radius:5px; font-family:cursive\"> 🧮 Preprocessing </span></h2>"
   ]
  },
  {
   "cell_type": "markdown",
   "id": "8e9b89ea-7e06-423d-835c-eaa5b5f7e845",
   "metadata": {},
   "source": [
    "<h4 id=\"heading\"><span style=\"background-color:#fcf3b9; color:#3d3710 ; display:fill;border-radius:5px; font-family:Georgia\"> 📋 Preprocessing Data </span></h4>"
   ]
  },
  {
   "cell_type": "code",
   "execution_count": 4,
   "id": "174e2340-d6f7-406a-83b7-eb22aa236f46",
   "metadata": {},
   "outputs": [],
   "source": [
    "df = raw_df.copy()"
   ]
  },
  {
   "cell_type": "markdown",
   "id": "e55b10c3-0fe6-4ad0-890d-1db91e56a917",
   "metadata": {},
   "source": [
    "<h4 id=\"heading\"><span style=\"background-color:#fcf3b9; color:#3d3710 ; display:fill;border-radius:5px; font-family:Georgia\">1. 🔨🪛 Split Multiple Value\n",
    "</span></h4>"
   ]
  },
  {
   "cell_type": "code",
   "execution_count": 5,
   "id": "44a29a4a-4dae-4e3a-9ff5-9203e6bb276c",
   "metadata": {},
   "outputs": [],
   "source": [
    "COLUMNS_SPLIT = df.select_dtypes('object').columns.to_list()\n",
    "for column in COLUMNS_SPLIT:\n",
    "    df[column] = split_answers(df[column],';')"
   ]
  },
  {
   "cell_type": "markdown",
   "id": "2bca733e-25f1-431f-97b3-f325c242f004",
   "metadata": {},
   "source": [
    "<h4 id=\"heading\"><span style=\"background-color:#fcf3b9; color:#3d3710 ; display:fill;border-radius:5px; font-family:Georgia\">2. 🔨🪛 Replace Values </span></h4>"
   ]
  },
  {
   "cell_type": "code",
   "execution_count": 6,
   "id": "e681d792-c2ae-4481-ad31-aedb834713e4",
   "metadata": {},
   "outputs": [],
   "source": [
    "# Change string value by the dictionary REPLACE_DICT (Pandas Remap Values)\n",
    "df[COLUMNS_HAVE_PROB] = df[COLUMNS_HAVE_PROB].replace(REPLACE_DICT).astype(np.float32)\n",
    "\n",
    "# Replace null value\n",
    "for column in COLUMNS_HAVE_PROB:\n",
    "    df[column].fillna(df[column].mean(), inplace = True)\n"
   ]
  },
  {
   "cell_type": "markdown",
   "id": "e1619bb4-5ca1-449a-b0c3-860a47bd47da",
   "metadata": {},
   "source": [
    "***\n",
    "<h2 id=\"heading\"><span style=\"background-color:#cefffb; color:#1b4946; display:fill;border-radius:5px; font-family:cursive\"> 💱 Check the change  </span></h2>"
   ]
  },
  {
   "cell_type": "code",
   "execution_count": 7,
   "id": "f2b66940-eb55-4cba-97c6-d8e0995974f8",
   "metadata": {},
   "outputs": [
    {
     "name": "stdout",
     "output_type": "stream",
     "text": [
      "NEWStuck\n",
      "--------------------\n",
      "In The Modified Data : ['Call a coworker or friend', 'Visit Stack Overflow', 'Go for a walk or other physical activity', 'Panic', 'Do other work and come back later']\n",
      "In The Actuel Data   : Call a coworker or friend;Visit Stack Overflow;Go for a walk or other physical activity;Panic;Do other work and come back later\n"
     ]
    }
   ],
   "source": [
    "test_col = random.choice(df.columns)\n",
    "n_sample = random.randint(0, len(df))\n",
    "print(test_col + '\\n'+'-'*20)\n",
    "print('In The Modified Data :', df[test_col].iloc[n_sample])\n",
    "print('In The Actuel Data   :', raw_df[test_col].iloc[n_sample])"
   ]
  },
  {
   "cell_type": "markdown",
   "id": "615a59af-7c23-49bd-ab31-022f998efc10",
   "metadata": {},
   "source": [
    "***\n",
    "<h2 id=\"heading\"><span style=\"background-color:#cefffb; color:#1b4946; display:fill;border-radius:5px; font-family:cursive\"> 📤 Exporting Pickle </span></h2>"
   ]
  },
  {
   "cell_type": "code",
   "execution_count": 8,
   "id": "63956044-796d-4450-aaf1-d312225bd61a",
   "metadata": {},
   "outputs": [
    {
     "data": {
      "text/plain": [
       "'../data/processed/1_preprocessed_df.pkl'"
      ]
     },
     "execution_count": 8,
     "metadata": {},
     "output_type": "execute_result"
    }
   ],
   "source": [
    "EXPORT_PATH"
   ]
  },
  {
   "cell_type": "code",
   "execution_count": 9,
   "id": "8e329832-d0c6-4c35-82ae-118ef127784f",
   "metadata": {},
   "outputs": [],
   "source": [
    "with open(EXPORT_PATH, 'wb') as f:\n",
    "    pickle.dump(df, f)\n",
    "\n",
    "# We can also use: $ df.to_pickle(EXPORT_PATH)\n",
    "\n",
    "\n"
   ]
  },
  {
   "cell_type": "code",
   "execution_count": 10,
   "id": "cfa7c75d-c188-478b-bb30-80860b2d71fc",
   "metadata": {},
   "outputs": [],
   "source": [
    "# For import the pickle from the path\n",
    "xr= pd.read_pickle(EXPORT_PATH)"
   ]
  },
  {
   "cell_type": "code",
   "execution_count": null,
   "id": "8312ea52-dc8a-4428-be88-03705fd9e647",
   "metadata": {},
   "outputs": [],
   "source": []
  },
  {
   "cell_type": "code",
   "execution_count": null,
   "id": "6b162f71-3e29-424e-8a14-3947a44b9a6e",
   "metadata": {},
   "outputs": [],
   "source": []
  },
  {
   "cell_type": "markdown",
   "id": "748e1b13-2a5c-4af5-92ff-a240102cb9ea",
   "metadata": {},
   "source": [
    "### **🏅The index of person that  was has less than 5 years when they start coding**"
   ]
  },
  {
   "cell_type": "code",
   "execution_count": 11,
   "id": "883f17da-134e-40d6-bad5-3cde05619a7f",
   "metadata": {
    "tags": []
   },
   "outputs": [
    {
     "name": "stdout",
     "output_type": "stream",
     "text": [
      "The index of person that  was has more than 85 years when they start coding:\n",
      "\n",
      " [ 2625  6125  6964 25796 33363 35362 37797 39170 41380 42259 42328 45732\n",
      " 64288]\n",
      "------------------------------------------------------------\n",
      "The number of person that  was has more than 85 years when they start coding:--> 13\n"
     ]
    }
   ],
   "source": [
    "print(\"The index of person that  was has more than 85 years when they start coding:\\n\\n\",\n",
    "      raw_df[raw_df[\"Age1stCode\"]==\"Older than 85\"].index.values)\n",
    "print(\"--\"*30)\n",
    "print(\"The number of person that  was has more than 85 years when they start coding:-->\",\n",
    "      len(raw_df[raw_df[\"Age1stCode\"]==\"Older than 85\"].index.values))"
   ]
  },
  {
   "cell_type": "markdown",
   "id": "3ff0eef8-08f2-4b11-b11a-b94aa687f3a6",
   "metadata": {},
   "source": [
    " 1. **Display the row of Respondent who has more than 85 years when they start coding**"
   ]
  },
  {
   "cell_type": "code",
   "execution_count": 12,
   "id": "934c5e15-7868-41fb-814c-7c2cb722daa8",
   "metadata": {
    "tags": []
   },
   "outputs": [
    {
     "data": {
      "text/plain": [
       "Respondent                                                                   6150\n",
       "MainBranch                                         I am a developer by profession\n",
       "Hobbyist                                                                      Yes\n",
       "Age                                                                          25.0\n",
       "Age1stCode                                                          Older than 85\n",
       "CompFreq                                                                      NaN\n",
       "CompTotal                                                                     NaN\n",
       "ConvertedComp                                                                 NaN\n",
       "Country                                                               South Korea\n",
       "CurrencyDesc                                                                  NaN\n",
       "CurrencySymbol                                                                NaN\n",
       "DatabaseDesireNextYear                                                        NaN\n",
       "DatabaseWorkedWith                                                          MySQL\n",
       "DevType                         Developer, desktop or enterprise applications;...\n",
       "EdLevel                         Some college/university study without earning ...\n",
       "Employment                                     Not employed, but looking for work\n",
       "Ethnicity                                 East Asian;White or of European descent\n",
       "Gender                                                                        Man\n",
       "JobFactors                      Flex time or a flexible schedule;Languages, fr...\n",
       "JobSat                                                                        NaN\n",
       "JobSeek                                           I am actively looking for a job\n",
       "LanguageDesireNextYear                                               C;C++;Python\n",
       "LanguageWorkedWith                                                   C;C++;Python\n",
       "MiscTechDesireNextYear                                                      Keras\n",
       "MiscTechWorkedWith                                                     TensorFlow\n",
       "NEWCollabToolsDesireNextYear                                               Github\n",
       "NEWCollabToolsWorkedWith                          Github;Stack Overflow for Teams\n",
       "NEWDevOps                                                                     NaN\n",
       "NEWDevOpsImpt                                                                 NaN\n",
       "NEWEdImpt                                                          Very important\n",
       "NEWJobHunt                      Better work/life balance;Wanting to work with ...\n",
       "NEWJobHuntResearch              Read other media like news articles, founder p...\n",
       "NEWLearn                                                              Once a year\n",
       "NEWOffTopic                                                                   NaN\n",
       "NEWOnboardGood                                                                NaN\n",
       "NEWOtherComms                                                                  No\n",
       "NEWOvertime                                                                   NaN\n",
       "NEWPurchaseResearch                                            Start a free trial\n",
       "NEWPurpleLink                                                             Annoyed\n",
       "NEWSOSites                       Stack Overflow (public Q&A for anyone who codes)\n",
       "NEWStuck                                                     Visit Stack Overflow\n",
       "OpSys                                                                     Windows\n",
       "OrgSize                                                                       NaN\n",
       "PlatformDesireNextYear                                              Linux;Windows\n",
       "PlatformWorkedWith                                                  Linux;Windows\n",
       "PurchaseWhat                                                                  NaN\n",
       "Sexuality                                                                     NaN\n",
       "SOAccount                                                                     Yes\n",
       "SOComm                                                              Yes, somewhat\n",
       "SOPartFreq                                    Less than once per month or monthly\n",
       "SOVisitFreq                                                  A few times per week\n",
       "SurveyEase                                                                   Easy\n",
       "SurveyLength                                                Appropriate in length\n",
       "Trans                                                                          No\n",
       "UndergradMajor                  Computer science, computer engineering, or sof...\n",
       "WebframeDesireNextYear                                                        NaN\n",
       "WebframeWorkedWith                                                            NaN\n",
       "WelcomeChange                            Somewhat less welcome now than last year\n",
       "WorkWeekHrs                                                                   NaN\n",
       "YearsCode                                                                      10\n",
       "YearsCodePro                                                                  NaN\n",
       "Name: 6125, dtype: object"
      ]
     },
     "execution_count": 12,
     "metadata": {},
     "output_type": "execute_result"
    }
   ],
   "source": [
    " raw_df[raw_df[\"Age1stCode\"]==\"Older than 85\"].sample(1).iloc[0]"
   ]
  },
  {
   "cell_type": "markdown",
   "id": "bdca64a9-8488-4d91-9198-9d9757224269",
   "metadata": {},
   "source": [
    "### **🏅The index of person that  was has less than 5 years when they start coding**"
   ]
  },
  {
   "cell_type": "code",
   "execution_count": 13,
   "id": "653218b3-6661-46aa-90e0-47aa89563d46",
   "metadata": {
    "tags": []
   },
   "outputs": [
    {
     "name": "stdout",
     "output_type": "stream",
     "text": [
      "The index of person that  was has less than 5 years when they start coding:\n",
      "\n",
      " [  209   372   534   566   634   732   872   948  1001  1446  1553  1567\n",
      "  1906  1972  2159  2266  2287  2846  3264  3484  3710  3840  3876  3931\n",
      "  4043  4080  4279  4944  5601  5630  5774  5814  5919  5930  5952  5999\n",
      "  6142  6205  6382  6419  6815  7068  7244  7278  7370  7371  7763  7859\n",
      "  7994  8103  8198  8750  8851  8859  9101  9139  9360  9461  9802  9936\n",
      " 10050 10166 10511 10653 10702 10839 11017 11285 11337 11407 11600 11781\n",
      " 11938 11946 12004 12344 12429 12465 12634 12783 12882 12987 13035 13210\n",
      " 13555 13847 13973 14058 14322 14529 14714 15004 15039 15335 15509 15530\n",
      " 15558 15992 16151 17061 17210 17319 17517 17545 17641 17937 18024 18259\n",
      " 18723 18919 18982 19003 19305 19587 19824 19874 19927 19961 20238 20331\n",
      " 20410 20576 20700 20902 20946 21084 21140 21165 21457 21518 22431 22794\n",
      " 22891 23047 23060 23091 23356 23365 23543 23708 24105 24110 24124 24357\n",
      " 24675 24738 24894 24908 24944 25286 25330 25387 25610 25694 25752 25784\n",
      " 26316 26503 26859 27169 27257 27346 27384 27747 27802 27882 28121 28176\n",
      " 28182 28404 28417 28702 28932 29027 29201 29218 29431 29504 29621 29642\n",
      " 29781 30017 30055 30187 30241 30712 31271 31351 31435 31527 31531 31567\n",
      " 31583 31930 32021 32933 33025 33158 33371 33499 33511 33702 33864 33867\n",
      " 34164 34342 34414 34436 34625 34646 34713 34819 35793 35903 36190 36198\n",
      " 36380 36717 36735 36759 36903 37244 37261 37270 37283 37294 37369 37446\n",
      " 37467 37494 37896 37926 38043 38060 38111 38320 38342 38427 38507 38736\n",
      " 38745 39022 39915 39999 40202 40252 40255 40547 40827 41033 41276 41704\n",
      " 41952 42073 42091 42101 42156 42311 42552 42633 42691 42732 43129 43258\n",
      " 43420 43471 43791 43828 44185 44313 44321 44322 44361 44580 44641 44991\n",
      " 45004 45020 45200 45405 45454 45523 45531 45729 45753 46248 46585 46772\n",
      " 47044 47573 47722 48024 48032 48036 48040 48446 48552 49157 49280 49449\n",
      " 49752 49958 50125 50423 50622 50821 50932 51047 51260 51379 51390 51462\n",
      " 51691 51827 51842 51965 52042 52167 52251 52382 52412 52604 52838 53183\n",
      " 53393 53552 53598 53717 53730 53740 53756 53781 53961 54089 54130 54215\n",
      " 54242 54251 54341 54687 54795 54813 54823 54993 55154 55322 55474 55491\n",
      " 55627 55809 55993 56003 56325 56507 56599 56639 56807 56892 57228 57422\n",
      " 57438 57472 57503 57521 57674 57700 57947 57962 58138 58151 58292 58528\n",
      " 58774 58908 59436 59949 59987 60553 60598 60613 60660 60704 60933 61024\n",
      " 61126 61453 61545 61609 61780 61866 62213 62233 62236 62305 62354 62721\n",
      " 62773 62890 63189 63349 63993 64172 64197 64211 64243 64313 64324 64344\n",
      " 64369 64383 64401 64412 64421 64438]\n",
      "------------------------------------------------------------\n",
      "The number of person that  was has less than 5 years when they start coding:--> 414\n"
     ]
    }
   ],
   "source": [
    "print(\"The index of person that  was has less than 5 years when they start coding:\\n\\n\",\n",
    "      raw_df[raw_df[\"Age1stCode\"]==\"Younger than 5 years\"].index.values)\n",
    "print(\"--\"*30)\n",
    "print(\"The number of person that  was has less than 5 years when they start coding:-->\",\n",
    "      len(raw_df[raw_df[\"Age1stCode\"]==\"Younger than 5 years\"].index.values))"
   ]
  },
  {
   "cell_type": "markdown",
   "id": "d0e0cbce-c504-4556-b8b7-999f59ce932e",
   "metadata": {},
   "source": [
    " 1. **Display the row of Respondent who has more than 85 years when they start coding**"
   ]
  },
  {
   "cell_type": "code",
   "execution_count": 14,
   "id": "2182bcf2-1068-496b-932f-22c96e6b80ec",
   "metadata": {
    "tags": []
   },
   "outputs": [
    {
     "data": {
      "text/plain": [
       "Respondent                                                                  52325\n",
       "MainBranch                                         I am a developer by profession\n",
       "Hobbyist                                                                      Yes\n",
       "Age                                                                          32.0\n",
       "Age1stCode                                                   Younger than 5 years\n",
       "CompFreq                                                                   Yearly\n",
       "CompTotal                                                                 95000.0\n",
       "ConvertedComp                                                             95000.0\n",
       "Country                                                             United States\n",
       "CurrencyDesc                                                 United States dollar\n",
       "CurrencySymbol                                                                USD\n",
       "DatabaseDesireNextYear                                                        NaN\n",
       "DatabaseWorkedWith                                                            NaN\n",
       "DevType                         Academic researcher;Data scientist or machine ...\n",
       "EdLevel                                Other doctoral degree (Ph.D., Ed.D., etc.)\n",
       "Employment                                                     Employed full-time\n",
       "Ethnicity                                            White or of European descent\n",
       "Gender                                                                        Man\n",
       "JobFactors                      Industry that I’d be working in;Languages, fra...\n",
       "JobSat                                                         Slightly satisfied\n",
       "JobSeek                         I’m not actively looking, but I am open to new...\n",
       "LanguageDesireNextYear                                                C++;Go;Rust\n",
       "LanguageWorkedWith                      C#;C++;Go;HTML/CSS;JavaScript;Python;Rust\n",
       "MiscTechDesireNextYear                                    .NET Core;Unreal Engine\n",
       "MiscTechWorkedWith                          .NET;.NET Core;Unity 3D;Unreal Engine\n",
       "NEWCollabToolsDesireNextYear    Confluence;Jira;Github;Microsoft Teams;Trello;...\n",
       "NEWCollabToolsWorkedWith        Confluence;Jira;Github;Microsoft Teams;Trello;...\n",
       "NEWDevOps                                                                     Yes\n",
       "NEWDevOpsImpt                                                  Somewhat important\n",
       "NEWEdImpt                                                          Very important\n",
       "NEWJobHunt                      Curious about other opportunities;Better compe...\n",
       "NEWJobHuntResearch              Company reviews from third party sites (e.g. G...\n",
       "NEWLearn                                                         Every few months\n",
       "NEWOffTopic                                                                    No\n",
       "NEWOnboardGood                                                                Yes\n",
       "NEWOtherComms                                                                 Yes\n",
       "NEWOvertime                                     Rarely: 1-2 days per year or less\n",
       "NEWPurchaseResearch             Start a free trial;Ask developers I know/work ...\n",
       "NEWPurpleLink                                                   Hello, old friend\n",
       "NEWSOSites                      Stack Overflow (public Q&A for anyone who code...\n",
       "NEWStuck                        Meditate;Play games;Call a coworker or friend;...\n",
       "OpSys                                                                     Windows\n",
       "OrgSize                                                  10,000 or more employees\n",
       "PlatformDesireNextYear                                              Linux;Windows\n",
       "PlatformWorkedWith                                                  Linux;Windows\n",
       "PurchaseWhat                                                I have some influence\n",
       "Sexuality                                                 Straight / Heterosexual\n",
       "SOAccount                                                                     Yes\n",
       "SOComm                                                             No, not really\n",
       "SOPartFreq                                    Less than once per month or monthly\n",
       "SOVisitFreq                                                 Daily or almost daily\n",
       "SurveyEase                                                                   Easy\n",
       "SurveyLength                                                Appropriate in length\n",
       "Trans                                                                          No\n",
       "UndergradMajor                  Computer science, computer engineering, or sof...\n",
       "WebframeDesireNextYear                                                        NaN\n",
       "WebframeWorkedWith                                                            NaN\n",
       "WelcomeChange                             Just as welcome now as I felt last year\n",
       "WorkWeekHrs                                                                  40.0\n",
       "YearsCode                                                                      30\n",
       "YearsCodePro                                                                    7\n",
       "Name: 51260, dtype: object"
      ]
     },
     "execution_count": 14,
     "metadata": {},
     "output_type": "execute_result"
    }
   ],
   "source": [
    " raw_df[raw_df[\"Age1stCode\"]==\"Younger than 5 years\"].sample(1).iloc[0]"
   ]
  },
  {
   "cell_type": "code",
   "execution_count": 15,
   "id": "389f9abb-1109-4ba6-9368-083b7b62012d",
   "metadata": {},
   "outputs": [
    {
     "name": "stdout",
     "output_type": "stream",
     "text": [
      "['Respondent', 'MainBranch', 'Hobbyist', 'Age', 'Age1stCode', 'CompFreq', 'CompTotal', 'ConvertedComp', 'Country', 'CurrencyDesc', 'CurrencySymbol', 'DatabaseDesireNextYear', 'DatabaseWorkedWith', 'DevType', 'EdLevel', 'Employment', 'Ethnicity', 'Gender', 'JobFactors', 'JobSat', 'JobSeek', 'LanguageDesireNextYear', 'LanguageWorkedWith', 'MiscTechDesireNextYear', 'MiscTechWorkedWith', 'NEWCollabToolsDesireNextYear', 'NEWCollabToolsWorkedWith', 'NEWDevOps', 'NEWDevOpsImpt', 'NEWEdImpt', 'NEWJobHunt', 'NEWJobHuntResearch', 'NEWLearn', 'NEWOffTopic', 'NEWOnboardGood', 'NEWOtherComms', 'NEWOvertime', 'NEWPurchaseResearch', 'NEWPurpleLink', 'NEWSOSites', 'NEWStuck', 'OpSys', 'OrgSize', 'PlatformDesireNextYear', 'PlatformWorkedWith', 'PurchaseWhat', 'Sexuality', 'SOAccount', 'SOComm', 'SOPartFreq', 'SOVisitFreq', 'SurveyEase', 'SurveyLength', 'Trans', 'UndergradMajor', 'WebframeDesireNextYear', 'WebframeWorkedWith', 'WelcomeChange', 'WorkWeekHrs', 'YearsCode', 'YearsCodePro']\n"
     ]
    }
   ],
   "source": [
    "print(raw_df.columns.tolist())"
   ]
  },
  {
   "cell_type": "markdown",
   "id": "82e18978-03df-436b-b77c-396fab7cd0c5",
   "metadata": {
    "tags": []
   },
   "source": [
    "# 👨‍‍🔧 **Preprocessing**\n",
    "\n"
   ]
  },
  {
   "cell_type": "markdown",
   "id": "3ed3a39b-002b-4134-8e02-28ff11feabd7",
   "metadata": {},
   "source": [
    "## 🔬👓 Exploring Columns values"
   ]
  },
  {
   "cell_type": "markdown",
   "id": "e630f186-f7ca-4685-8ada-0c84a5ab6be4",
   "metadata": {},
   "source": [
    "### 1️⃣ \"MainBranch\" "
   ]
  },
  {
   "cell_type": "code",
   "execution_count": 16,
   "id": "8bd35c2e-b73c-4792-8bb5-1259b2c41232",
   "metadata": {
    "tags": []
   },
   "outputs": [
    {
     "name": "stdout",
     "output_type": "stream",
     "text": [
      "['I am a developer by profession', 'I code primarily as a hobby', 'I used to be a developer by profession, but no longer am', 'I am not primarily a developer, but I write code sometimes as part of my work', 'I am a student who is learning to code', nan]\n"
     ]
    }
   ],
   "source": [
    "print(raw_df[\"MainBranch\"].unique().tolist())"
   ]
  },
  {
   "cell_type": "code",
   "execution_count": 17,
   "id": "cb04695b-7ee9-4da6-a8ad-d234850d8d44",
   "metadata": {
    "tags": []
   },
   "outputs": [
    {
     "data": {
      "text/plain": [
       "Respondent                                                                  26686\n",
       "MainBranch                      I used to be a developer by profession, but no...\n",
       "Hobbyist                                                                       No\n",
       "Age                                                                          28.0\n",
       "Age1stCode                                                                     15\n",
       "CompFreq                                                                      NaN\n",
       "CompTotal                                                                     NaN\n",
       "ConvertedComp                                                                 NaN\n",
       "Country                                                                      Iran\n",
       "CurrencyDesc                                                                  NaN\n",
       "CurrencySymbol                                                                NaN\n",
       "DatabaseDesireNextYear                               Microsoft SQL Server;MongoDB\n",
       "DatabaseWorkedWith                                           Microsoft SQL Server\n",
       "DevType                         Developer, back-end;Developer, desktop or ente...\n",
       "EdLevel                              Bachelor’s degree (B.A., B.S., B.Eng., etc.)\n",
       "Employment                                                     Employed full-time\n",
       "Ethnicity                                                          Middle Eastern\n",
       "Gender                                                                        Man\n",
       "JobFactors                                                                    NaN\n",
       "JobSat                                                                        NaN\n",
       "JobSeek                                                                       NaN\n",
       "LanguageDesireNextYear                          C#;HTML/CSS;JavaScript;TypeScript\n",
       "LanguageWorkedWith                              C#;HTML/CSS;JavaScript;TypeScript\n",
       "MiscTechDesireNextYear                                                  .NET Core\n",
       "MiscTechWorkedWith                                                 .NET;.NET Core\n",
       "NEWCollabToolsDesireNextYear                        Github;Gitlab;Microsoft Teams\n",
       "NEWCollabToolsWorkedWith                                   Github;Microsoft Teams\n",
       "NEWDevOps                                                                     NaN\n",
       "NEWDevOpsImpt                                                                 NaN\n",
       "NEWEdImpt                                                          Very important\n",
       "NEWJobHunt                                                                    NaN\n",
       "NEWJobHuntResearch                                                            NaN\n",
       "NEWLearn                                                              Once a year\n",
       "NEWOffTopic                                                              Not sure\n",
       "NEWOnboardGood                                                                NaN\n",
       "NEWOtherComms                                                                 Yes\n",
       "NEWOvertime                                                                   NaN\n",
       "NEWPurchaseResearch             Start a free trial;Visit developer communities...\n",
       "NEWPurpleLink                                                                 NaN\n",
       "NEWSOSites                      Stack Overflow (public Q&A for anyone who code...\n",
       "NEWStuck                        Meditate;Call a coworker or friend;Visit Stack...\n",
       "OpSys                                                                     Windows\n",
       "OrgSize                                                                       NaN\n",
       "PlatformDesireNextYear                                          AWS;Linux;Windows\n",
       "PlatformWorkedWith                                                        Windows\n",
       "PurchaseWhat                                                                  NaN\n",
       "Sexuality                                                 Straight / Heterosexual\n",
       "SOAccount                                                                     Yes\n",
       "SOComm                                                              Yes, somewhat\n",
       "SOPartFreq                                                  Daily or almost daily\n",
       "SOVisitFreq                                                Multiple times per day\n",
       "SurveyEase                                             Neither easy nor difficult\n",
       "SurveyLength                                                             Too long\n",
       "Trans                                                                          No\n",
       "UndergradMajor                  Computer science, computer engineering, or sof...\n",
       "WebframeDesireNextYear                                       Angular;ASP.NET Core\n",
       "WebframeWorkedWith                        Angular;Angular.js;ASP.NET;ASP.NET Core\n",
       "WelcomeChange                               A lot more welcome now than last year\n",
       "WorkWeekHrs                                                                   NaN\n",
       "YearsCode                                                                       7\n",
       "YearsCodePro                                                                    4\n",
       "Name: 26587, dtype: object"
      ]
     },
     "execution_count": 17,
     "metadata": {},
     "output_type": "execute_result"
    }
   ],
   "source": [
    "# Change the value of the VALUE_TEST from any value of the  MainBranch column\n",
    "# VALUE_TEST = \"I am a developer by profession\"\n",
    "# VALUE_TEST = \"I code primarily as a hobby\"\n",
    "VALUE_TEST = \"I used to be a developer by profession, but no longer am\"\n",
    "# VALUE_TEST = \"I am not primarily a developer, but I write code sometimes as part of my work\"\n",
    "# VALUE_TEST = \"I am a student who is learning to code\"\n",
    "raw_df[raw_df[\"MainBranch\"]==VALUE_TEST].sample(1).iloc[0]"
   ]
  },
  {
   "cell_type": "code",
   "execution_count": 18,
   "id": "acffcede-358a-4336-8332-b1e052172b07",
   "metadata": {
    "tags": []
   },
   "outputs": [
    {
     "name": "stdout",
     "output_type": "stream",
     "text": [
      "<class 'pandas.core.frame.DataFrame'>\n",
      "Int64Index: 1183 entries, 4 to 64156\n",
      "Data columns (total 61 columns):\n",
      " #   Column                        Non-Null Count  Dtype  \n",
      "---  ------                        --------------  -----  \n",
      " 0   Respondent                    1183 non-null   int64  \n",
      " 1   MainBranch                    1183 non-null   object \n",
      " 2   Hobbyist                      1183 non-null   object \n",
      " 3   Age                           751 non-null    float64\n",
      " 4   Age1stCode                    994 non-null    object \n",
      " 5   CompFreq                      0 non-null      object \n",
      " 6   CompTotal                     0 non-null      float64\n",
      " 7   ConvertedComp                 0 non-null      float64\n",
      " 8   Country                       1168 non-null   object \n",
      " 9   CurrencyDesc                  0 non-null      object \n",
      " 10  CurrencySymbol                0 non-null      object \n",
      " 11  DatabaseDesireNextYear        722 non-null    object \n",
      " 12  DatabaseWorkedWith            840 non-null    object \n",
      " 13  DevType                       761 non-null    object \n",
      " 14  EdLevel                       1000 non-null   object \n",
      " 15  Employment                    1154 non-null   object \n",
      " 16  Ethnicity                     803 non-null    object \n",
      " 17  Gender                        888 non-null    object \n",
      " 18  JobFactors                    0 non-null      object \n",
      " 19  JobSat                        0 non-null      object \n",
      " 20  JobSeek                       0 non-null      object \n",
      " 21  LanguageDesireNextYear        927 non-null    object \n",
      " 22  LanguageWorkedWith            1016 non-null   object \n",
      " 23  MiscTechDesireNextYear        670 non-null    object \n",
      " 24  MiscTechWorkedWith            645 non-null    object \n",
      " 25  NEWCollabToolsDesireNextYear  805 non-null    object \n",
      " 26  NEWCollabToolsWorkedWith      896 non-null    object \n",
      " 27  NEWDevOps                     0 non-null      object \n",
      " 28  NEWDevOpsImpt                 0 non-null      object \n",
      " 29  NEWEdImpt                     928 non-null    object \n",
      " 30  NEWJobHunt                    0 non-null      object \n",
      " 31  NEWJobHuntResearch            0 non-null      object \n",
      " 32  NEWLearn                      1015 non-null   object \n",
      " 33  NEWOffTopic                   889 non-null    object \n",
      " 34  NEWOnboardGood                0 non-null      object \n",
      " 35  NEWOtherComms                 1042 non-null   object \n",
      " 36  NEWOvertime                   0 non-null      object \n",
      " 37  NEWPurchaseResearch           945 non-null    object \n",
      " 38  NEWPurpleLink                 973 non-null    object \n",
      " 39  NEWSOSites                    1061 non-null   object \n",
      " 40  NEWStuck                      975 non-null    object \n",
      " 41  OpSys                         1006 non-null   object \n",
      " 42  OrgSize                       0 non-null      object \n",
      " 43  PlatformDesireNextYear        884 non-null    object \n",
      " 44  PlatformWorkedWith            946 non-null    object \n",
      " 45  PurchaseWhat                  0 non-null      object \n",
      " 46  Sexuality                     734 non-null    object \n",
      " 47  SOAccount                     1004 non-null   object \n",
      " 48  SOComm                        995 non-null    object \n",
      " 49  SOPartFreq                    802 non-null    object \n",
      " 50  SOVisitFreq                   1007 non-null   object \n",
      " 51  SurveyEase                    918 non-null    object \n",
      " 52  SurveyLength                  916 non-null    object \n",
      " 53  Trans                         853 non-null    object \n",
      " 54  UndergradMajor                930 non-null    object \n",
      " 55  WebframeDesireNextYear        625 non-null    object \n",
      " 56  WebframeWorkedWith            660 non-null    object \n",
      " 57  WelcomeChange                 915 non-null    object \n",
      " 58  WorkWeekHrs                   0 non-null      float64\n",
      " 59  YearsCode                     997 non-null    object \n",
      " 60  YearsCodePro                  757 non-null    object \n",
      "dtypes: float64(4), int64(1), object(56)\n",
      "memory usage: 573.0+ KB\n"
     ]
    }
   ],
   "source": [
    "raw_df[raw_df[\"MainBranch\"]==VALUE_TEST].shape\n",
    "raw_df[raw_df[\"MainBranch\"]==VALUE_TEST].describe()\n",
    "raw_df[raw_df[\"MainBranch\"]==VALUE_TEST].info()"
   ]
  },
  {
   "cell_type": "code",
   "execution_count": 19,
   "id": "fd17fc1b-678d-4a8a-bbe7-3398da4fd35b",
   "metadata": {},
   "outputs": [
    {
     "name": "stdout",
     "output_type": "stream",
     "text": [
      "The mean age of coresponding that has 'I used to be a developer by profession, but no longer am' is : 39.86817576564581\n"
     ]
    }
   ],
   "source": [
    "print(f\"The mean age of coresponding that has '{VALUE_TEST}' is :\",raw_df[raw_df[\"MainBranch\"]==VALUE_TEST][\"Age\"].mean())"
   ]
  },
  {
   "cell_type": "code",
   "execution_count": 20,
   "id": "e5a34220-d77b-4fe9-ae7a-dc227a1339fc",
   "metadata": {},
   "outputs": [
    {
     "data": {
      "text/html": [
       "<div>\n",
       "<style scoped>\n",
       "    .dataframe tbody tr th:only-of-type {\n",
       "        vertical-align: middle;\n",
       "    }\n",
       "\n",
       "    .dataframe tbody tr th {\n",
       "        vertical-align: top;\n",
       "    }\n",
       "\n",
       "    .dataframe thead th {\n",
       "        text-align: right;\n",
       "    }\n",
       "</style>\n",
       "<table border=\"1\" class=\"dataframe\">\n",
       "  <thead>\n",
       "    <tr style=\"text-align: right;\">\n",
       "      <th></th>\n",
       "      <th>Respondent</th>\n",
       "      <th>MainBranch</th>\n",
       "      <th>Hobbyist</th>\n",
       "      <th>Age</th>\n",
       "      <th>Age1stCode</th>\n",
       "      <th>CompFreq</th>\n",
       "      <th>CompTotal</th>\n",
       "      <th>ConvertedComp</th>\n",
       "      <th>Country</th>\n",
       "      <th>CurrencyDesc</th>\n",
       "      <th>...</th>\n",
       "      <th>SurveyEase</th>\n",
       "      <th>SurveyLength</th>\n",
       "      <th>Trans</th>\n",
       "      <th>UndergradMajor</th>\n",
       "      <th>WebframeDesireNextYear</th>\n",
       "      <th>WebframeWorkedWith</th>\n",
       "      <th>WelcomeChange</th>\n",
       "      <th>WorkWeekHrs</th>\n",
       "      <th>YearsCode</th>\n",
       "      <th>YearsCodePro</th>\n",
       "    </tr>\n",
       "  </thead>\n",
       "  <tbody>\n",
       "    <tr>\n",
       "      <th>0</th>\n",
       "      <td>1</td>\n",
       "      <td>I am a developer by profession</td>\n",
       "      <td>Yes</td>\n",
       "      <td>NaN</td>\n",
       "      <td>13</td>\n",
       "      <td>Monthly</td>\n",
       "      <td>NaN</td>\n",
       "      <td>NaN</td>\n",
       "      <td>Germany</td>\n",
       "      <td>European Euro</td>\n",
       "      <td>...</td>\n",
       "      <td>Neither easy nor difficult</td>\n",
       "      <td>Appropriate in length</td>\n",
       "      <td>No</td>\n",
       "      <td>Computer science, computer engineering, or sof...</td>\n",
       "      <td>ASP.NET Core</td>\n",
       "      <td>ASP.NET;ASP.NET Core</td>\n",
       "      <td>Just as welcome now as I felt last year</td>\n",
       "      <td>50.0</td>\n",
       "      <td>36</td>\n",
       "      <td>27</td>\n",
       "    </tr>\n",
       "    <tr>\n",
       "      <th>1</th>\n",
       "      <td>2</td>\n",
       "      <td>I am a developer by profession</td>\n",
       "      <td>No</td>\n",
       "      <td>NaN</td>\n",
       "      <td>19</td>\n",
       "      <td>NaN</td>\n",
       "      <td>NaN</td>\n",
       "      <td>NaN</td>\n",
       "      <td>United Kingdom</td>\n",
       "      <td>Pound sterling</td>\n",
       "      <td>...</td>\n",
       "      <td>NaN</td>\n",
       "      <td>NaN</td>\n",
       "      <td>NaN</td>\n",
       "      <td>Computer science, computer engineering, or sof...</td>\n",
       "      <td>NaN</td>\n",
       "      <td>NaN</td>\n",
       "      <td>Somewhat more welcome now than last year</td>\n",
       "      <td>NaN</td>\n",
       "      <td>7</td>\n",
       "      <td>4</td>\n",
       "    </tr>\n",
       "    <tr>\n",
       "      <th>2</th>\n",
       "      <td>3</td>\n",
       "      <td>I code primarily as a hobby</td>\n",
       "      <td>Yes</td>\n",
       "      <td>NaN</td>\n",
       "      <td>15</td>\n",
       "      <td>NaN</td>\n",
       "      <td>NaN</td>\n",
       "      <td>NaN</td>\n",
       "      <td>Russian Federation</td>\n",
       "      <td>NaN</td>\n",
       "      <td>...</td>\n",
       "      <td>Neither easy nor difficult</td>\n",
       "      <td>Appropriate in length</td>\n",
       "      <td>NaN</td>\n",
       "      <td>NaN</td>\n",
       "      <td>NaN</td>\n",
       "      <td>NaN</td>\n",
       "      <td>Somewhat more welcome now than last year</td>\n",
       "      <td>NaN</td>\n",
       "      <td>4</td>\n",
       "      <td>NaN</td>\n",
       "    </tr>\n",
       "    <tr>\n",
       "      <th>3</th>\n",
       "      <td>4</td>\n",
       "      <td>I am a developer by profession</td>\n",
       "      <td>Yes</td>\n",
       "      <td>25.0</td>\n",
       "      <td>18</td>\n",
       "      <td>NaN</td>\n",
       "      <td>NaN</td>\n",
       "      <td>NaN</td>\n",
       "      <td>Albania</td>\n",
       "      <td>Albanian lek</td>\n",
       "      <td>...</td>\n",
       "      <td>NaN</td>\n",
       "      <td>NaN</td>\n",
       "      <td>No</td>\n",
       "      <td>Computer science, computer engineering, or sof...</td>\n",
       "      <td>NaN</td>\n",
       "      <td>NaN</td>\n",
       "      <td>Somewhat less welcome now than last year</td>\n",
       "      <td>40.0</td>\n",
       "      <td>7</td>\n",
       "      <td>4</td>\n",
       "    </tr>\n",
       "    <tr>\n",
       "      <th>4</th>\n",
       "      <td>5</td>\n",
       "      <td>I used to be a developer by profession, but no...</td>\n",
       "      <td>Yes</td>\n",
       "      <td>31.0</td>\n",
       "      <td>16</td>\n",
       "      <td>NaN</td>\n",
       "      <td>NaN</td>\n",
       "      <td>NaN</td>\n",
       "      <td>United States</td>\n",
       "      <td>NaN</td>\n",
       "      <td>...</td>\n",
       "      <td>Easy</td>\n",
       "      <td>Too short</td>\n",
       "      <td>No</td>\n",
       "      <td>Computer science, computer engineering, or sof...</td>\n",
       "      <td>Django;Ruby on Rails</td>\n",
       "      <td>Ruby on Rails</td>\n",
       "      <td>Just as welcome now as I felt last year</td>\n",
       "      <td>NaN</td>\n",
       "      <td>15</td>\n",
       "      <td>8</td>\n",
       "    </tr>\n",
       "    <tr>\n",
       "      <th>...</th>\n",
       "      <td>...</td>\n",
       "      <td>...</td>\n",
       "      <td>...</td>\n",
       "      <td>...</td>\n",
       "      <td>...</td>\n",
       "      <td>...</td>\n",
       "      <td>...</td>\n",
       "      <td>...</td>\n",
       "      <td>...</td>\n",
       "      <td>...</td>\n",
       "      <td>...</td>\n",
       "      <td>...</td>\n",
       "      <td>...</td>\n",
       "      <td>...</td>\n",
       "      <td>...</td>\n",
       "      <td>...</td>\n",
       "      <td>...</td>\n",
       "      <td>...</td>\n",
       "      <td>...</td>\n",
       "      <td>...</td>\n",
       "      <td>...</td>\n",
       "    </tr>\n",
       "    <tr>\n",
       "      <th>64456</th>\n",
       "      <td>64858</td>\n",
       "      <td>NaN</td>\n",
       "      <td>Yes</td>\n",
       "      <td>NaN</td>\n",
       "      <td>16</td>\n",
       "      <td>NaN</td>\n",
       "      <td>NaN</td>\n",
       "      <td>NaN</td>\n",
       "      <td>United States</td>\n",
       "      <td>NaN</td>\n",
       "      <td>...</td>\n",
       "      <td>NaN</td>\n",
       "      <td>NaN</td>\n",
       "      <td>NaN</td>\n",
       "      <td>Computer science, computer engineering, or sof...</td>\n",
       "      <td>NaN</td>\n",
       "      <td>NaN</td>\n",
       "      <td>NaN</td>\n",
       "      <td>NaN</td>\n",
       "      <td>10</td>\n",
       "      <td>Less than 1 year</td>\n",
       "    </tr>\n",
       "    <tr>\n",
       "      <th>64457</th>\n",
       "      <td>64867</td>\n",
       "      <td>NaN</td>\n",
       "      <td>Yes</td>\n",
       "      <td>NaN</td>\n",
       "      <td>NaN</td>\n",
       "      <td>NaN</td>\n",
       "      <td>NaN</td>\n",
       "      <td>NaN</td>\n",
       "      <td>Morocco</td>\n",
       "      <td>NaN</td>\n",
       "      <td>...</td>\n",
       "      <td>NaN</td>\n",
       "      <td>NaN</td>\n",
       "      <td>NaN</td>\n",
       "      <td>NaN</td>\n",
       "      <td>NaN</td>\n",
       "      <td>NaN</td>\n",
       "      <td>NaN</td>\n",
       "      <td>NaN</td>\n",
       "      <td>NaN</td>\n",
       "      <td>NaN</td>\n",
       "    </tr>\n",
       "    <tr>\n",
       "      <th>64458</th>\n",
       "      <td>64898</td>\n",
       "      <td>NaN</td>\n",
       "      <td>Yes</td>\n",
       "      <td>NaN</td>\n",
       "      <td>NaN</td>\n",
       "      <td>NaN</td>\n",
       "      <td>NaN</td>\n",
       "      <td>NaN</td>\n",
       "      <td>Viet Nam</td>\n",
       "      <td>NaN</td>\n",
       "      <td>...</td>\n",
       "      <td>NaN</td>\n",
       "      <td>NaN</td>\n",
       "      <td>NaN</td>\n",
       "      <td>NaN</td>\n",
       "      <td>NaN</td>\n",
       "      <td>NaN</td>\n",
       "      <td>NaN</td>\n",
       "      <td>NaN</td>\n",
       "      <td>NaN</td>\n",
       "      <td>NaN</td>\n",
       "    </tr>\n",
       "    <tr>\n",
       "      <th>64459</th>\n",
       "      <td>64925</td>\n",
       "      <td>NaN</td>\n",
       "      <td>Yes</td>\n",
       "      <td>NaN</td>\n",
       "      <td>NaN</td>\n",
       "      <td>NaN</td>\n",
       "      <td>NaN</td>\n",
       "      <td>NaN</td>\n",
       "      <td>Poland</td>\n",
       "      <td>NaN</td>\n",
       "      <td>...</td>\n",
       "      <td>NaN</td>\n",
       "      <td>NaN</td>\n",
       "      <td>NaN</td>\n",
       "      <td>NaN</td>\n",
       "      <td>Angular;Angular.js;React.js</td>\n",
       "      <td>NaN</td>\n",
       "      <td>NaN</td>\n",
       "      <td>NaN</td>\n",
       "      <td>NaN</td>\n",
       "      <td>NaN</td>\n",
       "    </tr>\n",
       "    <tr>\n",
       "      <th>64460</th>\n",
       "      <td>65112</td>\n",
       "      <td>NaN</td>\n",
       "      <td>Yes</td>\n",
       "      <td>NaN</td>\n",
       "      <td>NaN</td>\n",
       "      <td>NaN</td>\n",
       "      <td>NaN</td>\n",
       "      <td>NaN</td>\n",
       "      <td>Spain</td>\n",
       "      <td>NaN</td>\n",
       "      <td>...</td>\n",
       "      <td>NaN</td>\n",
       "      <td>NaN</td>\n",
       "      <td>NaN</td>\n",
       "      <td>Computer science, computer engineering, or sof...</td>\n",
       "      <td>ASP.NET Core;jQuery</td>\n",
       "      <td>Angular;Angular.js;ASP.NET Core;jQuery</td>\n",
       "      <td>NaN</td>\n",
       "      <td>NaN</td>\n",
       "      <td>NaN</td>\n",
       "      <td>NaN</td>\n",
       "    </tr>\n",
       "  </tbody>\n",
       "</table>\n",
       "<p>64461 rows × 61 columns</p>\n",
       "</div>"
      ],
      "text/plain": [
       "       Respondent                                         MainBranch Hobbyist  \\\n",
       "0               1                     I am a developer by profession      Yes   \n",
       "1               2                     I am a developer by profession       No   \n",
       "2               3                        I code primarily as a hobby      Yes   \n",
       "3               4                     I am a developer by profession      Yes   \n",
       "4               5  I used to be a developer by profession, but no...      Yes   \n",
       "...           ...                                                ...      ...   \n",
       "64456       64858                                                NaN      Yes   \n",
       "64457       64867                                                NaN      Yes   \n",
       "64458       64898                                                NaN      Yes   \n",
       "64459       64925                                                NaN      Yes   \n",
       "64460       65112                                                NaN      Yes   \n",
       "\n",
       "        Age Age1stCode CompFreq  CompTotal  ConvertedComp             Country  \\\n",
       "0       NaN         13  Monthly        NaN            NaN             Germany   \n",
       "1       NaN         19      NaN        NaN            NaN      United Kingdom   \n",
       "2       NaN         15      NaN        NaN            NaN  Russian Federation   \n",
       "3      25.0         18      NaN        NaN            NaN             Albania   \n",
       "4      31.0         16      NaN        NaN            NaN       United States   \n",
       "...     ...        ...      ...        ...            ...                 ...   \n",
       "64456   NaN         16      NaN        NaN            NaN       United States   \n",
       "64457   NaN        NaN      NaN        NaN            NaN             Morocco   \n",
       "64458   NaN        NaN      NaN        NaN            NaN            Viet Nam   \n",
       "64459   NaN        NaN      NaN        NaN            NaN              Poland   \n",
       "64460   NaN        NaN      NaN        NaN            NaN               Spain   \n",
       "\n",
       "         CurrencyDesc  ...                  SurveyEase           SurveyLength  \\\n",
       "0       European Euro  ...  Neither easy nor difficult  Appropriate in length   \n",
       "1      Pound sterling  ...                         NaN                    NaN   \n",
       "2                 NaN  ...  Neither easy nor difficult  Appropriate in length   \n",
       "3        Albanian lek  ...                         NaN                    NaN   \n",
       "4                 NaN  ...                        Easy              Too short   \n",
       "...               ...  ...                         ...                    ...   \n",
       "64456             NaN  ...                         NaN                    NaN   \n",
       "64457             NaN  ...                         NaN                    NaN   \n",
       "64458             NaN  ...                         NaN                    NaN   \n",
       "64459             NaN  ...                         NaN                    NaN   \n",
       "64460             NaN  ...                         NaN                    NaN   \n",
       "\n",
       "      Trans                                     UndergradMajor  \\\n",
       "0        No  Computer science, computer engineering, or sof...   \n",
       "1       NaN  Computer science, computer engineering, or sof...   \n",
       "2       NaN                                                NaN   \n",
       "3        No  Computer science, computer engineering, or sof...   \n",
       "4        No  Computer science, computer engineering, or sof...   \n",
       "...     ...                                                ...   \n",
       "64456   NaN  Computer science, computer engineering, or sof...   \n",
       "64457   NaN                                                NaN   \n",
       "64458   NaN                                                NaN   \n",
       "64459   NaN                                                NaN   \n",
       "64460   NaN  Computer science, computer engineering, or sof...   \n",
       "\n",
       "            WebframeDesireNextYear                      WebframeWorkedWith  \\\n",
       "0                     ASP.NET Core                    ASP.NET;ASP.NET Core   \n",
       "1                              NaN                                     NaN   \n",
       "2                              NaN                                     NaN   \n",
       "3                              NaN                                     NaN   \n",
       "4             Django;Ruby on Rails                           Ruby on Rails   \n",
       "...                            ...                                     ...   \n",
       "64456                          NaN                                     NaN   \n",
       "64457                          NaN                                     NaN   \n",
       "64458                          NaN                                     NaN   \n",
       "64459  Angular;Angular.js;React.js                                     NaN   \n",
       "64460          ASP.NET Core;jQuery  Angular;Angular.js;ASP.NET Core;jQuery   \n",
       "\n",
       "                                  WelcomeChange WorkWeekHrs YearsCode  \\\n",
       "0       Just as welcome now as I felt last year        50.0        36   \n",
       "1      Somewhat more welcome now than last year         NaN         7   \n",
       "2      Somewhat more welcome now than last year         NaN         4   \n",
       "3      Somewhat less welcome now than last year        40.0         7   \n",
       "4       Just as welcome now as I felt last year         NaN        15   \n",
       "...                                         ...         ...       ...   \n",
       "64456                                       NaN         NaN        10   \n",
       "64457                                       NaN         NaN       NaN   \n",
       "64458                                       NaN         NaN       NaN   \n",
       "64459                                       NaN         NaN       NaN   \n",
       "64460                                       NaN         NaN       NaN   \n",
       "\n",
       "           YearsCodePro  \n",
       "0                    27  \n",
       "1                     4  \n",
       "2                   NaN  \n",
       "3                     4  \n",
       "4                     8  \n",
       "...                 ...  \n",
       "64456  Less than 1 year  \n",
       "64457               NaN  \n",
       "64458               NaN  \n",
       "64459               NaN  \n",
       "64460               NaN  \n",
       "\n",
       "[64461 rows x 61 columns]"
      ]
     },
     "execution_count": 20,
     "metadata": {},
     "output_type": "execute_result"
    }
   ],
   "source": [
    "raw_df"
   ]
  }
 ],
 "metadata": {
  "kernelspec": {
   "display_name": "Python 3 (ipykernel)",
   "language": "python",
   "name": "python3"
  },
  "language_info": {
   "codemirror_mode": {
    "name": "ipython",
    "version": 3
   },
   "file_extension": ".py",
   "mimetype": "text/x-python",
   "name": "python",
   "nbconvert_exporter": "python",
   "pygments_lexer": "ipython3",
   "version": "3.10.6"
  }
 },
 "nbformat": 4,
 "nbformat_minor": 5
}
